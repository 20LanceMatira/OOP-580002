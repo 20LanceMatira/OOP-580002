{
  "nbformat": 4,
  "nbformat_minor": 0,
  "metadata": {
    "colab": {
      "provenance": [],
      "authorship_tag": "ABX9TyPjgZ1EaQ7KRUAHEMineMxD",
      "include_colab_link": true
    },
    "kernelspec": {
      "name": "python3",
      "display_name": "Python 3"
    },
    "language_info": {
      "name": "python"
    }
  },
  "cells": [
    {
      "cell_type": "markdown",
      "metadata": {
        "id": "view-in-github",
        "colab_type": "text"
      },
      "source": [
        "<a href=\"https://colab.research.google.com/github/20LanceMatira/OOP-58002/blob/main/Operations%26ExpressionsInPython.ipynb\" target=\"_parent\"><img src=\"https://colab.research.google.com/assets/colab-badge.svg\" alt=\"Open In Colab\"/></a>"
      ]
    },
    {
      "cell_type": "markdown",
      "source": [
        "##Boolean Operators"
      ],
      "metadata": {
        "id": "FuCenyoTzow_"
      }
    },
    {
      "cell_type": "code",
      "source": [
        "print(10>9)\n",
        "print(10<9)\n",
        "print(10==9)\n"
      ],
      "metadata": {
        "colab": {
          "base_uri": "https://localhost:8080/"
        },
        "id": "FSUI1dK-z8P-",
        "outputId": "b0cfb9b7-6d88-4678-b2ec-2b67f170bf36"
      },
      "execution_count": null,
      "outputs": [
        {
          "output_type": "stream",
          "name": "stdout",
          "text": [
            "True\n",
            "False\n",
            "False\n"
          ]
        }
      ]
    },
    {
      "cell_type": "code",
      "source": [
        "a = 10\n",
        "b = 9 \n",
        "print(a<b)\n",
        "print(a==b)\n",
        "print(a>b)\n",
        "print(b==b)\n",
        "print(a==a)"
      ],
      "metadata": {
        "colab": {
          "base_uri": "https://localhost:8080/"
        },
        "id": "9epD4oyo0boS",
        "outputId": "49703622-7b5a-4fda-cfec-bc6f0ee5657b"
      },
      "execution_count": null,
      "outputs": [
        {
          "output_type": "stream",
          "name": "stdout",
          "text": [
            "False\n",
            "False\n",
            "True\n",
            "True\n",
            "True\n"
          ]
        }
      ]
    },
    {
      "cell_type": "markdown",
      "source": [
        "##Boolean/Bool() Function"
      ],
      "metadata": {
        "id": "90uwq26o0u5i"
      }
    },
    {
      "cell_type": "code",
      "source": [
        "print(bool(1))\n",
        "print(bool(\"Ana\"))\n",
        "print(bool(0))\n",
        "print(bool(None))\n",
        "print(bool([]))\n"
      ],
      "metadata": {
        "colab": {
          "base_uri": "https://localhost:8080/"
        },
        "id": "0PLDG2dt0laj",
        "outputId": "fced5252-29c7-4431-b7c3-6aeb462d46cb"
      },
      "execution_count": null,
      "outputs": [
        {
          "output_type": "stream",
          "name": "stdout",
          "text": [
            "True\n",
            "True\n",
            "False\n",
            "False\n",
            "False\n"
          ]
        }
      ]
    },
    {
      "cell_type": "markdown",
      "source": [
        "##Boolean return function/Functions can return a Boolean"
      ],
      "metadata": {
        "id": "ZjxDKFsz1oMK"
      }
    },
    {
      "cell_type": "code",
      "source": [
        "def myFunction():\n",
        "  return True\n",
        "\n",
        "print(myFunction())\n"
      ],
      "metadata": {
        "colab": {
          "base_uri": "https://localhost:8080/"
        },
        "id": "O33K0K7N1szS",
        "outputId": "736c541a-8e4c-4514-d847-400a7cf4eaee"
      },
      "execution_count": null,
      "outputs": [
        {
          "output_type": "stream",
          "name": "stdout",
          "text": [
            "True\n"
          ]
        }
      ]
    },
    {
      "cell_type": "code",
      "source": [
        "def myFunction():\n",
        "  return True\n",
        "if myFunction():\n",
        "    print(\"Yes!\")\n",
        "else:\n",
        "    print(\"No!\") \n"
      ],
      "metadata": {
        "colab": {
          "base_uri": "https://localhost:8080/"
        },
        "id": "N3D0u1mI3QB5",
        "outputId": "b14f63db-dcb5-4d3b-d949-2051770281be"
      },
      "execution_count": null,
      "outputs": [
        {
          "output_type": "stream",
          "name": "stdout",
          "text": [
            "Yes!\n"
          ]
        }
      ]
    },
    {
      "cell_type": "code",
      "source": [
        "\n",
        "  a = 6\n",
        "  b = 7\n",
        "print(a==b)\n",
        "print(a!=a)"
      ],
      "metadata": {
        "colab": {
          "base_uri": "https://localhost:8080/"
        },
        "id": "3XwTgAjz3XGZ",
        "outputId": "00b8a0e7-3ee9-4ae5-945c-fb74a12d0c55"
      },
      "execution_count": null,
      "outputs": [
        {
          "output_type": "stream",
          "name": "stdout",
          "text": [
            "False\n",
            "False\n"
          ]
        }
      ]
    },
    {
      "cell_type": "markdown",
      "source": [
        "##Python Operators"
      ],
      "metadata": {
        "id": "TVrffMS34W3B"
      }
    },
    {
      "cell_type": "code",
      "source": [
        "print(10+5)\n",
        "print(10-5)\n",
        "print(10*5)\n",
        "print(10/5)\n",
        "print(10//5)\n",
        "print(10%5)\n",
        "print(10**2)"
      ],
      "metadata": {
        "colab": {
          "base_uri": "https://localhost:8080/"
        },
        "id": "1U-zQ_ks31bZ",
        "outputId": "e50beebd-11ea-4eb9-ca49-26fb6578983e"
      },
      "execution_count": null,
      "outputs": [
        {
          "output_type": "stream",
          "name": "stdout",
          "text": [
            "15\n",
            "5\n",
            "50\n",
            "2.0\n",
            "2\n",
            "0\n",
            "100\n"
          ]
        }
      ]
    },
    {
      "cell_type": "markdown",
      "source": [
        "##Bitwise Operators"
      ],
      "metadata": {
        "id": "5nW5ijx2516y"
      }
    },
    {
      "cell_type": "code",
      "source": [
        "a = 60\n",
        "b = 13\n",
        "\n",
        "print(a>>1)\n",
        "print(a<<1)\n",
        "print(b>>1)\n",
        "print(b<<1)"
      ],
      "metadata": {
        "colab": {
          "base_uri": "https://localhost:8080/"
        },
        "id": "3fLGnhM-55OS",
        "outputId": "57b6475e-7f12-4edf-c829-0b807c112454"
      },
      "execution_count": null,
      "outputs": [
        {
          "output_type": "stream",
          "name": "stdout",
          "text": [
            "30\n",
            "120\n",
            "6\n",
            "26\n"
          ]
        }
      ]
    },
    {
      "cell_type": "markdown",
      "source": [
        "##Python Assignment Operators"
      ],
      "metadata": {
        "id": "jorxCSGb94ct"
      }
    },
    {
      "cell_type": "code",
      "source": [
        "x = 1\n",
        "x+=3 #same as x = x+3\n",
        "print(x)\n",
        "x=1\n",
        "x-=3\n",
        "print(x)\n",
        "x=1\n",
        "x*=3\n",
        "print(x)\n",
        "x=1\n",
        "x/=3\n",
        "print(x)\n",
        "x=1\n",
        "x%=3\n",
        "print(x)\n",
        "x=1\n",
        "x//=3\n",
        "print(x)"
      ],
      "metadata": {
        "colab": {
          "base_uri": "https://localhost:8080/"
        },
        "id": "qPOzX5GP-AOE",
        "outputId": "0d7b23e1-cbab-443c-f3b1-07dac5f73ded"
      },
      "execution_count": null,
      "outputs": [
        {
          "output_type": "stream",
          "name": "stdout",
          "text": [
            "4\n",
            "-2\n",
            "3\n",
            "0.3333333333333333\n",
            "1\n",
            "0\n"
          ]
        }
      ]
    },
    {
      "cell_type": "markdown",
      "source": [
        "##Python Logical Operators"
      ],
      "metadata": {
        "id": "vcCLGCSM_ZKW"
      }
    },
    {
      "cell_type": "code",
      "source": [
        "x = True\n",
        "y = False"
      ],
      "metadata": {
        "id": "3pgqono8_dlm"
      },
      "execution_count": null,
      "outputs": []
    },
    {
      "cell_type": "code",
      "source": [
        "print(x and y)\n",
        "print(x or y)\n",
        "print(not(x or y))"
      ],
      "metadata": {
        "colab": {
          "base_uri": "https://localhost:8080/"
        },
        "id": "Iao0rZZFAgOP",
        "outputId": "ec5e119f-2f1d-45b7-cdc3-18a80afe94a6"
      },
      "execution_count": null,
      "outputs": [
        {
          "output_type": "stream",
          "name": "stdout",
          "text": [
            "False\n",
            "True\n",
            "False\n"
          ]
        }
      ]
    },
    {
      "cell_type": "markdown",
      "source": [
        "##Python Identity Operators"
      ],
      "metadata": {
        "id": "-a7fYVzZBBs9"
      }
    },
    {
      "cell_type": "code",
      "source": [
        "print(x is y)\n",
        "print(x is not y)"
      ],
      "metadata": {
        "colab": {
          "base_uri": "https://localhost:8080/"
        },
        "id": "nhT1sbgKBF8u",
        "outputId": "5fa94549-96c1-4c45-d0e9-573babf40a1d"
      },
      "execution_count": null,
      "outputs": [
        {
          "output_type": "stream",
          "name": "stdout",
          "text": [
            "False\n",
            "True\n"
          ]
        }
      ]
    },
    {
      "cell_type": "markdown",
      "source": [
        "##Application 1 Create an arithmetic calculator (MDAS)\n"
      ],
      "metadata": {
        "id": "obDpDHKxB0NL"
      }
    },
    {
      "cell_type": "code",
      "source": [
        "s = int(input(\"1st Num :\"))\n",
        "t = int(input(\"2nd Num :\"))\n",
        "u = int(input(\"3rd Num :\"))\n",
        "\n",
        "print(s+t+u)\n",
        "print(s-t-u)\n",
        "print(s*t*u)\n",
        "print(s/t/u)"
      ],
      "metadata": {
        "colab": {
          "base_uri": "https://localhost:8080/"
        },
        "id": "WBQlZlSHCavs",
        "outputId": "c06b9af5-bb25-4ab0-8b89-aab282416627"
      },
      "execution_count": 95,
      "outputs": [
        {
          "output_type": "stream",
          "name": "stdout",
          "text": [
            "1st Num : 178\n",
            "2nd Num : 24\n",
            "3rd Num : 61\n",
            "263\n",
            "93\n",
            "260592\n",
            "0.12158469945355192\n"
          ]
        }
      ]
    }
  ]
}