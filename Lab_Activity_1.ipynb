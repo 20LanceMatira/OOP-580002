{
  "nbformat": 4,
  "nbformat_minor": 0,
  "metadata": {
    "colab": {
      "provenance": [],
      "authorship_tag": "ABX9TyPXW4eH4GfT0LqLarvcQBa3",
      "include_colab_link": true
    },
    "kernelspec": {
      "name": "python3",
      "display_name": "Python 3"
    },
    "language_info": {
      "name": "python"
    }
  },
  "cells": [
    {
      "cell_type": "markdown",
      "metadata": {
        "id": "view-in-github",
        "colab_type": "text"
      },
      "source": [
        "<a href=\"https://colab.research.google.com/github/20LanceMatira/OOP-58002/blob/main/Lab_Activity_1.ipynb\" target=\"_parent\"><img src=\"https://colab.research.google.com/assets/colab-badge.svg\" alt=\"Open In Colab\"/></a>"
      ]
    },
    {
      "cell_type": "code",
      "execution_count": 2,
      "metadata": {
        "colab": {
          "base_uri": "https://localhost:8080/"
        },
        "id": "THHBXkbapJrc",
        "outputId": "2cd5ef53-9ae4-4cab-dab9-89ca4d5547ed"
      },
      "outputs": [
        {
          "output_type": "stream",
          "name": "stdout",
          "text": [
            "Number:20\n",
            "Sum of first 20 number is: 20\n",
            "Average of  20 numbers is: 1.0\n"
          ]
        }
      ],
      "source": [
        "n = int(input(\"Number:\"))\n",
        "sum = 0\n",
        "\n",
        "for num in range(n, n + 1, n):\n",
        "  sum = sum+num\n",
        "  print(\"Sum of first\",n,\"number is:\", sum)\n",
        "  average = sum / n \n",
        "  print(\"Average of \", n, \"numbers is:\",average)\n"
      ]
    },
    {
      "cell_type": "code",
      "source": [
        "n = 20\n",
        "totalnumbers = n \n",
        "sum = 0 \n",
        "average = 0 \n",
        "\n",
        "while n>=0:\n",
        "  print(\"Sum=\", sum)\n",
        "  print(\"Average=\", sum/totalnumbers)\n",
        "  sum +=1\n",
        "  n -=1\n"
      ],
      "metadata": {
        "colab": {
          "base_uri": "https://localhost:8080/"
        },
        "id": "1ek9XXfNz3Mq",
        "outputId": "148af46b-ea92-4e9f-8553-16d1654f1cce"
      },
      "execution_count": 5,
      "outputs": [
        {
          "output_type": "stream",
          "name": "stdout",
          "text": [
            "Sum= 0\n",
            "Average= 0.0\n",
            "Sum= 1\n",
            "Average= 0.05\n",
            "Sum= 2\n",
            "Average= 0.1\n",
            "Sum= 3\n",
            "Average= 0.15\n",
            "Sum= 4\n",
            "Average= 0.2\n",
            "Sum= 5\n",
            "Average= 0.25\n",
            "Sum= 6\n",
            "Average= 0.3\n",
            "Sum= 7\n",
            "Average= 0.35\n",
            "Sum= 8\n",
            "Average= 0.4\n",
            "Sum= 9\n",
            "Average= 0.45\n",
            "Sum= 10\n",
            "Average= 0.5\n",
            "Sum= 11\n",
            "Average= 0.55\n",
            "Sum= 12\n",
            "Average= 0.6\n",
            "Sum= 13\n",
            "Average= 0.65\n",
            "Sum= 14\n",
            "Average= 0.7\n",
            "Sum= 15\n",
            "Average= 0.75\n",
            "Sum= 16\n",
            "Average= 0.8\n",
            "Sum= 17\n",
            "Average= 0.85\n",
            "Sum= 18\n",
            "Average= 0.9\n",
            "Sum= 19\n",
            "Average= 0.95\n",
            "Sum= 20\n",
            "Average= 1.0\n"
          ]
        }
      ]
    }
  ]
}