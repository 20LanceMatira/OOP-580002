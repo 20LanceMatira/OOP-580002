{
  "nbformat": 4,
  "nbformat_minor": 0,
  "metadata": {
    "colab": {
      "provenance": [],
      "authorship_tag": "ABX9TyOEQocOdD6tIAF/lsoGu0HA",
      "include_colab_link": true
    },
    "kernelspec": {
      "name": "python3",
      "display_name": "Python 3"
    },
    "language_info": {
      "name": "python"
    }
  },
  "cells": [
    {
      "cell_type": "markdown",
      "metadata": {
        "id": "view-in-github",
        "colab_type": "text"
      },
      "source": [
        "<a href=\"https://colab.research.google.com/github/20LanceMatira/OOP-58002/blob/main/Lab_Activity_1.ipynb\" target=\"_parent\"><img src=\"https://colab.research.google.com/assets/colab-badge.svg\" alt=\"Open In Colab\"/></a>"
      ]
    },
    {
      "cell_type": "code",
      "execution_count": 14,
      "metadata": {
        "colab": {
          "base_uri": "https://localhost:8080/"
        },
        "id": "THHBXkbapJrc",
        "outputId": "9c1a74a2-548a-457b-b25b-aa4642e8ac50"
      },
      "outputs": [
        {
          "output_type": "stream",
          "name": "stdout",
          "text": [
            "Number:20\n",
            "Sum of first 20 number is: 210\n",
            "Average of  20 numbers is: 10.5\n"
          ]
        }
      ],
      "source": [
        "n = int(input(\"Number:\"))\n",
        "sum = 0\n",
        "\n",
        "for num in range(1, n + 1, 1):\n",
        "  sum = sum+num\n",
        "print(\"Sum of first\",n,\"number is:\", sum)\n",
        "average = sum / n \n",
        "print(\"Average of \", n, \"numbers is:\",average)\n"
      ]
    },
    {
      "cell_type": "code",
      "source": [
        "n = int(input(\"Number:\"))\n",
        "totalnumbers = n\n",
        "sum = 0 \n",
        "while n >=0:\n",
        "  sum += n\n",
        "  n -= 1 \n",
        "print(\"sum = \", sum)\n",
        "average = sum/totalnumbers\n",
        "print(\"average = \", average)"
      ],
      "metadata": {
        "colab": {
          "base_uri": "https://localhost:8080/"
        },
        "id": "s0SjVYaa6FH3",
        "outputId": "7791f81f-f934-458b-f3b5-af92772a554b"
      },
      "execution_count": 15,
      "outputs": [
        {
          "output_type": "stream",
          "name": "stdout",
          "text": [
            "Number:20\n",
            "sum =  210\n",
            "average =  10.5\n"
          ]
        }
      ]
    }
  ]
}