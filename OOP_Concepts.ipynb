{
  "nbformat": 4,
  "nbformat_minor": 0,
  "metadata": {
    "colab": {
      "provenance": [],
      "authorship_tag": "ABX9TyNS7R0ZbQYex7ckEeDxKsdR",
      "include_colab_link": true
    },
    "kernelspec": {
      "name": "python3",
      "display_name": "Python 3"
    },
    "language_info": {
      "name": "python"
    }
  },
  "cells": [
    {
      "cell_type": "markdown",
      "metadata": {
        "id": "view-in-github",
        "colab_type": "text"
      },
      "source": [
        "<a href=\"https://colab.research.google.com/github/20LanceMatira/OOP-58002/blob/main/OOP_Concepts.ipynb\" target=\"_parent\"><img src=\"https://colab.research.google.com/assets/colab-badge.svg\" alt=\"Open In Colab\"/></a>"
      ]
    },
    {
      "cell_type": "code",
      "execution_count": 4,
      "metadata": {
        "colab": {
          "base_uri": "https://localhost:8080/"
        },
        "id": "BO1bovDAw4vI",
        "outputId": "a7f76904-c3a8-4f2b-c245-ccd5d36e22ee"
      },
      "outputs": [
        {
          "output_type": "stream",
          "name": "stdout",
          "text": [
            "4\n"
          ]
        }
      ],
      "source": [
        "#Creation of Class\n",
        "\n",
        "class myClass:  #name of class\n",
        "  y = 4         #property name\n",
        "\n",
        "p1 = myClass()    #create an object named p1\n",
        "print(p1.y)       #print the value of y\n"
      ]
    },
    {
      "cell_type": "code",
      "source": [
        "class myclass:\n",
        "  pass"
      ],
      "metadata": {
        "id": "pp3-XP5ExbnC"
      },
      "execution_count": 3,
      "outputs": []
    },
    {
      "cell_type": "code",
      "source": [
        "#Creation of Method\n",
        "class Persons: \n",
        "  def __init__(self,name,):\n",
        "    self.name = name\n",
        "   # self.age = age \n",
        "  \n",
        "  def myfunction(self):\n",
        "    print(\"Hello, my name is\", self.name)\n",
        "\n",
        "\n",
        "teacher = Persons(\"Maria\",)\n",
        "teacher.myfunction()"
      ],
      "metadata": {
        "colab": {
          "base_uri": "https://localhost:8080/"
        },
        "id": "iF1yAVCKyA-4",
        "outputId": "69a581e8-26df-4939-f49e-b0e77002bc82"
      },
      "execution_count": 11,
      "outputs": [
        {
          "output_type": "stream",
          "name": "stdout",
          "text": [
            "Hello, my name is Maria\n"
          ]
        }
      ]
    },
    {
      "cell_type": "code",
      "source": [
        "#Modification of Object Properties\n",
        "teacher.name = \"Ana\"\n",
        "teacher.myfunction()"
      ],
      "metadata": {
        "colab": {
          "base_uri": "https://localhost:8080/"
        },
        "id": "q_M2pmDhzdiC",
        "outputId": "949f915d-ea1f-42cd-b16c-1ef58d72bd1a"
      },
      "execution_count": 14,
      "outputs": [
        {
          "output_type": "stream",
          "name": "stdout",
          "text": [
            "Hello, my name is Ana\n"
          ]
        }
      ]
    },
    {
      "cell_type": "code",
      "source": [
        "#Deletion of of Object Properties\n",
        "\n",
        "print(teacher.name)\n"
      ],
      "metadata": {
        "colab": {
          "base_uri": "https://localhost:8080/"
        },
        "id": "oON6LZZ-z1bB",
        "outputId": "19e6b2f8-9b1e-4a16-adc5-f40562248dcd"
      },
      "execution_count": 15,
      "outputs": [
        {
          "output_type": "stream",
          "name": "stdout",
          "text": [
            "Ana\n"
          ]
        }
      ]
    },
    {
      "cell_type": "code",
      "source": [
        "class Shapes: \n",
        "  def __init__(self,side1,side2):\n",
        "    self.side1 = side1\n",
        "    self.side2 = side2\n",
        "\n",
        "  #def area_square(self,side1):\n",
        "    #return self.side1 * self.side1\n",
        "\n",
        "  def area_rectangle(self):\n",
        "    return self.side1 * self.side2\n",
        "\n",
        "  #def display_square(self):\n",
        "    #print(\"The area of the square is \",self.area_square())\n",
        "\n",
        "  def display_rectangle(self):\n",
        "    print(\"The area of the square is\",self.area_rectangle())\n",
        "\n",
        "#square = Shapes(5)\n",
        "rectangle = Shapes(10,5)\n",
        "#print(square.area_square())\n",
        "#print(rectangle.area_rectangle())\n",
        "rectangle.display_rectangle()"
      ],
      "metadata": {
        "colab": {
          "base_uri": "https://localhost:8080/"
        },
        "id": "Za-TsYJK0s1O",
        "outputId": "95656d63-d765-41a2-c895-b718cd7b3f24"
      },
      "execution_count": 43,
      "outputs": [
        {
          "output_type": "stream",
          "name": "stdout",
          "text": [
            "The area of the square is 50\n"
          ]
        }
      ]
    },
    {
      "cell_type": "code",
      "source": [
        "#Inheritance\n",
        "class Shapes: \n",
        "  def __init__(self,side1,side2):\n",
        "    self.side1 = side1\n",
        "    self.side2 = side2\n",
        "  \n",
        "class Square(Shapes):\n",
        "  def area_square(self):\n",
        "    return self.side1*self.side1\n",
        "  def display_square(self):\n",
        "    print(\"The area of the square is\",self.area_square())\n",
        "\n",
        "class Rectangle(Shapes):\n",
        "  def area_rectangle(self):\n",
        "    print(self.side1*self.side2)\n",
        "  def display_rectangle(self):\n",
        "    print(\"The area of the rectangle is\",self.area_rectangle())\n",
        "\n",
        "  \n",
        "square = Square(4,4)\n",
        "\n",
        "rectangle = Rectangle(10,5)\n",
        "\n",
        "#print(square.area_square())\n",
        "#print(rectangle.area_rectangle())\n",
        "square.display_square()\n",
        "rectangle.display_rectangle()"
      ],
      "metadata": {
        "colab": {
          "base_uri": "https://localhost:8080/"
        },
        "id": "mtJ15yIN7gel",
        "outputId": "cc49a2f0-aa6b-43bf-9c74-7c8992346c19"
      },
      "execution_count": 53,
      "outputs": [
        {
          "output_type": "stream",
          "name": "stdout",
          "text": [
            "The area of the square is 16\n",
            "50\n",
            "The area of the rectangle is None\n"
          ]
        }
      ]
    },
    {
      "cell_type": "code",
      "source": [
        "#Create your own Python program that has the following:\n",
        "# Person as class name\n",
        "# Fullname,age, and school as attributes\n",
        "#Identity() as method to display your fullname,age, and school\n",
        "#person as object name"
      ],
      "metadata": {
        "id": "QVghjbZb-bCO"
      },
      "execution_count": null,
      "outputs": []
    },
    {
      "cell_type": "code",
      "source": [
        "class Person: \n",
        "  def __init__(self,name,age,school):\n",
        "    self.name = name\n",
        "    self.age = age\n",
        "    self.school = school \n",
        "\n",
        "  def Identity(self):\n",
        "    print(\"My name is:\",self.name)\n",
        "    print(\"My age is:\",self.age)\n",
        "    print(\"I study at:\",self.school)\n",
        "  \n",
        "person = Person(\"Alexander Lance G. Matira\",19,\"Adamson University @ BSCPE Department\")\n",
        "person.Identity()"
      ],
      "metadata": {
        "colab": {
          "base_uri": "https://localhost:8080/"
        },
        "id": "FaHdFJzKJWIG",
        "outputId": "d5f2ea25-00ef-4724-fcbe-a654fd570755"
      },
      "execution_count": 84,
      "outputs": [
        {
          "output_type": "stream",
          "name": "stdout",
          "text": [
            "My name is: Alexander Lance G. Matira\n",
            "My age is: 19\n",
            "I study at: Adamson University @ BSCPE Department\n"
          ]
        }
      ]
    }
  ]
}