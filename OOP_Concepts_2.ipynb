{
  "nbformat": 4,
  "nbformat_minor": 0,
  "metadata": {
    "colab": {
      "provenance": [],
      "authorship_tag": "ABX9TyNNxRhNIHHXiF9Qzq41NyyY",
      "include_colab_link": true
    },
    "kernelspec": {
      "name": "python3",
      "display_name": "Python 3"
    },
    "language_info": {
      "name": "python"
    }
  },
  "cells": [
    {
      "cell_type": "markdown",
      "metadata": {
        "id": "view-in-github",
        "colab_type": "text"
      },
      "source": [
        "<a href=\"https://colab.research.google.com/github/20LanceMatira/OOP-58002/blob/main/OOP_Concepts_2.ipynb\" target=\"_parent\"><img src=\"https://colab.research.google.com/assets/colab-badge.svg\" alt=\"Open In Colab\"/></a>"
      ]
    },
    {
      "cell_type": "code",
      "execution_count": null,
      "metadata": {
        "colab": {
          "base_uri": "https://localhost:8080/"
        },
        "id": "xxHWx48W6D2Z",
        "outputId": "d87e67f5-0755-4a30-ba74-01d5b9c02c69"
      },
      "outputs": [
        {
          "output_type": "execute_result",
          "data": {
            "text/plain": [
              "7"
            ]
          },
          "metadata": {},
          "execution_count": 1
        }
      ],
      "source": [
        "class foo:\n",
        "  def __init__(self,a,b):\n",
        "    self.a = a \n",
        "    self.b = b\n",
        "  def add(self):\n",
        "    return self.a+self.b\n",
        "\n",
        "foo_object = foo(3,4)\n",
        "foo_object.add()"
      ]
    },
    {
      "cell_type": "code",
      "source": [
        "#Class with multiple objects\n",
        "\n",
        "class birds:\n",
        "  def __init__(self,name_birds):\n",
        "    self.name_birds = name_birds\n",
        "  def flying_birds(self):\n",
        "    print(f\"The {self.name_birds} is the flying bird above the sky\")\n",
        "  def non_flying_birds(self):\n",
        "    print(f\"{self.name_birds} is the non flying bird\")\n",
        "\n",
        "eagle = birds(\"Eagle\")\n",
        "chicken = birds(\"Chicken\")\n",
        "eagle.flying_birds()\n",
        "chicken.non_flying_birds() "
      ],
      "metadata": {
        "colab": {
          "base_uri": "https://localhost:8080/"
        },
        "id": "_hlq9D_G9Ghk",
        "outputId": "a45e6e39-7211-4885-8ed8-66e74df5ba5f"
      },
      "execution_count": null,
      "outputs": [
        {
          "output_type": "stream",
          "name": "stdout",
          "text": [
            "The Eagle is the flying bird above the sky\n",
            "Chicken is the non flying bird\n"
          ]
        }
      ]
    },
    {
      "cell_type": "code",
      "source": [
        "#Encapsulation-Mangling with double underscore(__)\n",
        "class foo:\n",
        "  def __init__(self,a,b):\n",
        "    self.__a = a \n",
        "    self.__b = b \n",
        "  def add(self):\n",
        "    return self.__a + self.__b\n",
        "\n",
        "foo_object = foo(3,4)\n",
        "foo_object.add()\n",
        "foo_object.a = 7 \n",
        "foo_object.b = 12\n",
        "foo_object.add()"
      ],
      "metadata": {
        "colab": {
          "base_uri": "https://localhost:8080/"
        },
        "id": "rT6A4qze8KJM",
        "outputId": "46e84c67-83cc-4efd-9f0b-4a51b2bd98c8"
      },
      "execution_count": null,
      "outputs": [
        {
          "output_type": "execute_result",
          "data": {
            "text/plain": [
              "7"
            ]
          },
          "metadata": {},
          "execution_count": 15
        }
      ]
    },
    {
      "cell_type": "code",
      "source": [
        "#Inheritance\n",
        "class Person:\n",
        "  def __init__(self,name,birthdate):\n",
        "    self.name = name\n",
        "    self.birthdate = birthdate\n",
        "  def display(self):\n",
        "    print(\"My name is \", self.name)\n",
        "    print(\"My birthdate is\",self.birthdate)\n",
        "\n",
        "class Student(Person):\n",
        "  pass\n",
        "\n",
        "person = Person(\"Alexander Lance\",\"Feb 20 2004\")\n",
        "person.display()\n",
        "\n",
        "student = Student(\"Earl Marcus\",\"May 28 2014\")\n",
        "student.display()"
      ],
      "metadata": {
        "colab": {
          "base_uri": "https://localhost:8080/"
        },
        "id": "mVHsAW77DDpx",
        "outputId": "2b766c82-b114-47c6-b994-9af58e63b0d8"
      },
      "execution_count": 22,
      "outputs": [
        {
          "output_type": "stream",
          "name": "stdout",
          "text": [
            "My name is  Alexander Lance\n",
            "My birthdate is Feb 20 2004\n",
            "My name is  Earl Marcus\n",
            "My birthdate is May 28 2014\n"
          ]
        }
      ]
    },
    {
      "cell_type": "code",
      "source": [
        "#ACTIVITY USING SHAPES-APPLICATION\n",
        "\n",
        "class Shapes:\n",
        "  def __init__(self,side,name):\n",
        "    self.__side = side\n",
        "    self.__name = name \n",
        "  def display(self):\n",
        "    print(f\"{self.__side} is the side of \",self.__name)\n",
        "  \n",
        "class Rectangle(Shapes):\n",
        "  pass\n",
        "\n",
        "class Circle(Shapes):\n",
        "  pass\n",
        "\n",
        "class Pentagon(Shapes):\n",
        "  pass\n",
        "\n",
        "class Hexagon(Shapes):\n",
        "  pass\n",
        "\n",
        "class Triangle(Shapes):\n",
        "  pass\n",
        "\n",
        "class Octagon(Shapes):\n",
        "  pass\n",
        "\n",
        "shapes = Shapes(\"n\",\"unknown\")\n",
        "shapes.display()\n",
        "rectangle = Rectangle(\"4\",\"rectangle\")\n",
        "rectangle.display()\n",
        "circle = Circle(\"0\",\"circle\")\n",
        "circle.display()\n",
        "pentagon = Pentagon(\"5\",\"pentagon\")\n",
        "pentagon.display()\n",
        "hexagon = Hexagon(\"6\",\"hexagon\")\n",
        "hexagon.display()\n",
        "triangle = Triangle(\"3\",\"triangle\")\n",
        "triangle.display()\n",
        "octagon = Octagon(\"8\",\"octagon\")\n",
        "octagon.display()"
      ],
      "metadata": {
        "colab": {
          "base_uri": "https://localhost:8080/"
        },
        "id": "6kgdx5THEAOp",
        "outputId": "e04305de-4756-4b7b-b684-8cd5e64c6b98"
      },
      "execution_count": 43,
      "outputs": [
        {
          "output_type": "stream",
          "name": "stdout",
          "text": [
            "n is the side of  unknown\n",
            "4 is the side of  rectangle\n",
            "0 is the side of  circle\n",
            "5 is the side of  pentagon\n",
            "6 is the side of  hexagon\n",
            "3 is the side of  triangle\n",
            "8 is the side of  octagon\n"
          ]
        }
      ]
    }
  ]
}