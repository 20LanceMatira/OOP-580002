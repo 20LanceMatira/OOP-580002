{
  "nbformat": 4,
  "nbformat_minor": 0,
  "metadata": {
    "colab": {
      "provenance": [],
      "authorship_tag": "ABX9TyNmCsGK/RG2pX/NWCb3okZ2",
      "include_colab_link": true
    },
    "kernelspec": {
      "name": "python3",
      "display_name": "Python 3"
    },
    "language_info": {
      "name": "python"
    }
  },
  "cells": [
    {
      "cell_type": "markdown",
      "metadata": {
        "id": "view-in-github",
        "colab_type": "text"
      },
      "source": [
        "<a href=\"https://colab.research.google.com/github/20LanceMatira/OOP-58002/blob/main/PyCharm_Demo_1.ipynb\" target=\"_parent\"><img src=\"https://colab.research.google.com/assets/colab-badge.svg\" alt=\"Open In Colab\"/></a>"
      ]
    },
    {
      "cell_type": "code",
      "execution_count": null,
      "metadata": {
        "id": "stnmL3xhbJgd"
      },
      "outputs": [],
      "source": [
        "from tkinter import *\n",
        "\n",
        "window = Tk()\n",
        "\n",
        "window.geometry(\"500x400+10+10\")\n",
        "window.title(\"My Graphical User Interface\")\n",
        "btn = Button(window, bg=\"Blue\", fg=\"Black\", borderwidth=5, text=\"Click Me\")\n",
        "btn.place(x=210, y=200)\n",
        "\n",
        "txt = Entry(window, border=10)\n",
        "txt.place(x=170, y=150)\n",
        "\n",
        "label = Label(window, text=\"My name is Lance\")\n",
        "label.place(x=180, y=110)\n",
        "\n",
        "window.mainloop()"
      ]
    }
  ]
}