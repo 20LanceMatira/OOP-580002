{
  "nbformat": 4,
  "nbformat_minor": 0,
  "metadata": {
    "colab": {
      "provenance": [],
      "authorship_tag": "ABX9TyMp40iG5+JhqMmNl7ZWfueF",
      "include_colab_link": true
    },
    "kernelspec": {
      "name": "python3",
      "display_name": "Python 3"
    },
    "language_info": {
      "name": "python"
    }
  },
  "cells": [
    {
      "cell_type": "markdown",
      "metadata": {
        "id": "view-in-github",
        "colab_type": "text"
      },
      "source": [
        "<a href=\"https://colab.research.google.com/github/20LanceMatira/OOP-58002/blob/main/matira_midterms_quiz.ipynb\" target=\"_parent\"><img src=\"https://colab.research.google.com/assets/colab-badge.svg\" alt=\"Open In Colab\"/></a>"
      ]
    },
    {
      "cell_type": "code",
      "execution_count": 1,
      "metadata": {
        "colab": {
          "base_uri": "https://localhost:8080/"
        },
        "id": "OMMROEanUmqC",
        "outputId": "eab5edc6-8b10-4f64-db5a-89c9f73bf2cd"
      },
      "outputs": [
        {
          "output_type": "stream",
          "name": "stdout",
          "text": [
            "Enter you temperature to convert: 11\n",
            "Fahrenheit to Celsius: -11.67\n",
            "Kelvin to Celsius: -262.15\n",
            "Celsius to Fahrenheit: 51.80\n",
            "Kelvin to Fahrenheit: -439.87\n",
            "Celsius to Kelvin: 284.15\n",
            "Fahrenheit to Kelvin: 261.48\n"
          ]
        }
      ],
      "source": [
        "class TempConversion:\n",
        "    def __init__(self, temp):\n",
        "        self.__temp = temp\n",
        "\n",
        "    def __f_to_c(self):\n",
        "        return (self.__temp - 32) * 5 / 9\n",
        "\n",
        "    def __k_to_c(self):\n",
        "        return self.__temp - 273.15\n",
        "\n",
        "    def __c_to_f(self):\n",
        "        return self.__temp * 9 / 5 + 32\n",
        "\n",
        "    def __k_to_f(self):\n",
        "        return (self.__temp - 273.15) * 9 / 5 + 32\n",
        "\n",
        "    def __c_to_k(self):\n",
        "        return self.__temp + 273.15\n",
        "\n",
        "    def __f_to_k(self):\n",
        "        return (self.__temp - 32) * 5 / 9 + 273.15\n",
        "\n",
        "    def display(self):\n",
        "        print(f\"Fahrenheit to Celsius: {self.__f_to_c():.2f}\")\n",
        "        print(f\"Kelvin to Celsius: {self.__k_to_c():.2f}\")\n",
        "        print(f\"Celsius to Fahrenheit: {self.__c_to_f():.2f}\")\n",
        "        print(f\"Kelvin to Fahrenheit: {self.__k_to_f():.2f}\")\n",
        "        print(f\"Celsius to Kelvin: {self.__c_to_k():.2f}\")\n",
        "        print(f\"Fahrenheit to Kelvin: {self.__f_to_k():.2f}\")\n",
        "\n",
        "\n",
        "temperature = int(input(\"Enter you temperature to convert: \"))\n",
        "temp = TempConversion(temperature)\n",
        "temp.display()"
      ]
    },
    {
      "cell_type": "code",
      "source": [],
      "metadata": {
        "id": "cw2l4Q-XUqBO"
      },
      "execution_count": null,
      "outputs": []
    }
  ]
}