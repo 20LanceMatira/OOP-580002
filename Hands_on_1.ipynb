{
  "nbformat": 4,
  "nbformat_minor": 0,
  "metadata": {
    "colab": {
      "provenance": [],
      "authorship_tag": "ABX9TyP3lGTteLzbAX3Se470lJUI",
      "include_colab_link": true
    },
    "kernelspec": {
      "name": "python3",
      "display_name": "Python 3"
    },
    "language_info": {
      "name": "python"
    }
  },
  "cells": [
    {
      "cell_type": "markdown",
      "metadata": {
        "id": "view-in-github",
        "colab_type": "text"
      },
      "source": [
        "<a href=\"https://colab.research.google.com/github/20LanceMatira/OOP-58002/blob/main/Hands_on_1.ipynb\" target=\"_parent\"><img src=\"https://colab.research.google.com/assets/colab-badge.svg\" alt=\"Open In Colab\"/></a>"
      ]
    },
    {
      "cell_type": "markdown",
      "source": [
        "1. Create a python program that displays the name of three students (Student 1, student 2, student 3) and the term grades.\n",
        "2. Create a class name Person and attributes - std1,std2,std3,pre,mid,fin.\n",
        "3. Compute the average of each term grade using Grade() method.\n",
        "4. Information about student's grades must be hidden from others."
      ],
      "metadata": {
        "id": "ax3_IR_5AQ8E"
      }
    },
    {
      "cell_type": "code",
      "execution_count": 12,
      "metadata": {
        "colab": {
          "base_uri": "https://localhost:8080/"
        },
        "id": "Cy_gfXdWAQMe",
        "outputId": "a1f5f798-347a-4f3f-bdff-03021edab663"
      },
      "outputs": [
        {
          "output_type": "stream",
          "name": "stdout",
          "text": [
            "Sem grade of student 1:  89.0\n",
            "Sem grade of student 2:  91.0\n",
            "Sem grade of student 3:  83.0\n"
          ]
        }
      ],
      "source": [
        "#Alexander Lance G. Matira CPE102-58002-OOP_HANDS-ON1 \n",
        "\n",
        "class Person: \n",
        "  def __init__(self,pre,mid,fin):\n",
        "    self.__pre = pre \n",
        "    self.__mid = mid \n",
        "    self.__fin = fin \n",
        "  \n",
        "  def Grade(self):\n",
        "    return (self.__pre + self.__mid + self.__fin)/3\n",
        "\n",
        "class Student1(Person):\n",
        "  pass\n",
        "    \n",
        "class Student2(Person):\n",
        "  pass\n",
        "\n",
        "class Student3(Person):\n",
        "  pass\n",
        "\n",
        "std1 = Student1(84,92,91)\n",
        "std2 = Student2(87,90,96)\n",
        "std3 = Student3(84,85,80)\n",
        "  \n",
        "print(\"Sem grade of student 1: \", std1.Grade())\n",
        "print(\"Sem grade of student 2: \", std2.Grade())\n",
        "print(\"Sem grade of student 3: \", std3.Grade())\n",
        "  \n",
        "    "
      ]
    }
  ]
}