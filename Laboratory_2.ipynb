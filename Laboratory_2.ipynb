{
  "nbformat": 4,
  "nbformat_minor": 0,
  "metadata": {
    "colab": {
      "provenance": [],
      "authorship_tag": "ABX9TyOawgmmHfXh5dqSuj5jC8GA",
      "include_colab_link": true
    },
    "kernelspec": {
      "name": "python3",
      "display_name": "Python 3"
    },
    "language_info": {
      "name": "python"
    }
  },
  "cells": [
    {
      "cell_type": "markdown",
      "metadata": {
        "id": "view-in-github",
        "colab_type": "text"
      },
      "source": [
        "<a href=\"https://colab.research.google.com/github/20LanceMatira/OOP-58002/blob/main/Laboratory_2.ipynb\" target=\"_parent\"><img src=\"https://colab.research.google.com/assets/colab-badge.svg\" alt=\"Open In Colab\"/></a>"
      ]
    },
    {
      "cell_type": "code",
      "execution_count": 7,
      "metadata": {
        "colab": {
          "base_uri": "https://localhost:8080/"
        },
        "id": "szwpACLNmo5n",
        "outputId": "57ece01f-3fc3-437b-919b-b40bd4fd524b"
      },
      "outputs": [
        {
          "output_type": "stream",
          "name": "stdout",
          "text": [
            "radius: 16\n",
            "the area of the circle is: 803.84\n",
            "the perinmeter of the circle is 100.48\n"
          ]
        }
      ],
      "source": [
        "#Laboratory 2 \n",
        "#1.\tWrite a Python program that asks the user to enter the radius of a circle and solve its area and perimeter.\n",
        "#2.\tCreate a class name Circle allowing you to build a circle with radius and pi attributes.\n",
        "#3.\tCreate a method Display () the perimeter and area using an instantiation of a class.\n",
        "#4.\tCreate a Perimeter () method to calculate the perimeter of the circle and an Area () method to calculate the area of the circle.\n",
        "\n",
        "#Alexander Lance G. Matira CPE-102-58002\n",
        "\n",
        "pi = 3.14\n",
        "class Circle:\n",
        "  def __init__(self,radius):\n",
        "    self.radius = radius\n",
        "  def Area(self):\n",
        "    return pi*(self.radius**2)\n",
        "  def display_area(self):\n",
        "    print(\"the area of the circle is:\",self.Area())\n",
        "\n",
        "  def Perimeter(self):\n",
        "    return 2*pi*self.radius\n",
        "  def display_perimeter(self):\n",
        "    print(\"the perinmeter of the circle is\",self.Perimeter())\n",
        "\n",
        "\n",
        "r = int(input(\"radius: \"))\n",
        "circle = Circle(r)\n",
        "circle.display_area()\n",
        "circle.display_perimeter()\n"
      ]
    }
  ]
}