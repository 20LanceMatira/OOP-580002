{
  "nbformat": 4,
  "nbformat_minor": 0,
  "metadata": {
    "colab": {
      "provenance": [],
      "authorship_tag": "ABX9TyO74I+lbLw/xGgdszNSswz2",
      "include_colab_link": true
    },
    "kernelspec": {
      "name": "python3",
      "display_name": "Python 3"
    },
    "language_info": {
      "name": "python"
    }
  },
  "cells": [
    {
      "cell_type": "markdown",
      "metadata": {
        "id": "view-in-github",
        "colab_type": "text"
      },
      "source": [
        "<a href=\"https://colab.research.google.com/github/20LanceMatira/OOP-58002/blob/main/PythonFundamentals.ipynb\" target=\"_parent\"><img src=\"https://colab.research.google.com/assets/colab-badge.svg\" alt=\"Open In Colab\"/></a>"
      ]
    },
    {
      "cell_type": "markdown",
      "source": [
        "Python Indentation"
      ],
      "metadata": {
        "id": "Tm9n4-cywsHv"
      }
    },
    {
      "cell_type": "code",
      "source": [
        "if 5>2:\n",
        " print(\"Five is greater than two/5>2\")"
      ],
      "metadata": {
        "id": "8Cddjq3Hw0w-",
        "outputId": "dde059df-f798-4810-bde7-827f1056e96e",
        "colab": {
          "base_uri": "https://localhost:8080/"
        }
      },
      "execution_count": 30,
      "outputs": [
        {
          "output_type": "stream",
          "name": "stdout",
          "text": [
            "Five is greater than two/5>2\n"
          ]
        }
      ]
    },
    {
      "cell_type": "markdown",
      "source": [
        "Python Comment\n"
      ],
      "metadata": {
        "id": "B17maJm7x2On"
      }
    },
    {
      "cell_type": "code",
      "source": [
        "#ThisisaComment\n",
        "print (\"Hello World!\")"
      ],
      "metadata": {
        "id": "cNuAai_Yx6K2",
        "outputId": "bc5e7433-0ec3-46d0-87b1-42591a7bf9d8",
        "colab": {
          "base_uri": "https://localhost:8080/"
        }
      },
      "execution_count": 31,
      "outputs": [
        {
          "output_type": "stream",
          "name": "stdout",
          "text": [
            "Hello World!\n"
          ]
        }
      ]
    },
    {
      "cell_type": "markdown",
      "source": [
        "Naming Variable"
      ],
      "metadata": {
        "id": "c1fwHFJPyNqv"
      }
    },
    {
      "cell_type": "code",
      "source": [
        "#Single Variable with single value\n",
        "x = 1\n",
        "y = 2 \n",
        "print (x)\n",
        "print (y)\n",
        "\n",
        "#Multiple Variable with a single value\n",
        "\n",
        "a = b = c = \"Lance Matira\"\n",
        "print (a)\n",
        "print (b)\n",
        "print (c)\n",
        "\n",
        "#Multiple variables with multiple values\n",
        "e, f, g, = 1, 2 ,3\n",
        "print (e)\n",
        "print (f)\n",
        "print (g)"
      ],
      "metadata": {
        "id": "qAe-NFrRyRZ_"
      },
      "execution_count": null,
      "outputs": []
    },
    {
      "cell_type": "markdown",
      "source": [
        "Single or Double \n",
        "\n"
      ],
      "metadata": {
        "id": "9OTWdHxz0pAv"
      }
    },
    {
      "cell_type": "code",
      "source": [
        "v = \"sally\"\n",
        "u = 'sally'\n",
        "print(u)\n",
        "print(v)\n"
      ],
      "metadata": {
        "id": "8MRUA2aT06Fl"
      },
      "execution_count": null,
      "outputs": []
    },
    {
      "cell_type": "markdown",
      "source": [
        "Casting"
      ],
      "metadata": {
        "id": "R5HKfnb_04-t"
      }
    },
    {
      "cell_type": "code",
      "source": [
        "p = float(5)\n",
        "p "
      ],
      "metadata": {
        "id": "_CxELAed1Iym"
      },
      "execution_count": null,
      "outputs": []
    },
    {
      "cell_type": "markdown",
      "source": [
        "Type() Function"
      ],
      "metadata": {
        "id": "t5ZCHhWG1jqT"
      }
    },
    {
      "cell_type": "code",
      "source": [
        "f = \"Anna\"\n",
        "g = 4.56\n",
        "print(type(f))\n",
        "print(type(g))\n"
      ],
      "metadata": {
        "colab": {
          "base_uri": "https://localhost:8080/"
        },
        "id": "Jm-3HsqZ13h0",
        "outputId": "4b0c77c8-ee86-49c2-8524-56482bc8d99e"
      },
      "execution_count": null,
      "outputs": [
        {
          "output_type": "stream",
          "name": "stdout",
          "text": [
            "<class 'str'>\n",
            "<class 'float'>\n"
          ]
        }
      ]
    },
    {
      "cell_type": "markdown",
      "source": [
        "Concatenation using + symbol"
      ],
      "metadata": {
        "id": "mU4jH4CN25eL"
      }
    },
    {
      "cell_type": "code",
      "source": [
        "k = \"enjoying\"\n",
        "j = \"Python progamming is\"\n",
        "print(\"Python programming is \"+ k )\n",
        "print(j +\" \"+k)\n"
      ],
      "metadata": {
        "colab": {
          "base_uri": "https://localhost:8080/"
        },
        "id": "yS5IUmfY3Eh7",
        "outputId": "3c4dc71a-1dd6-45ec-f847-108cde3b286b"
      },
      "execution_count": null,
      "outputs": [
        {
          "output_type": "stream",
          "name": "stdout",
          "text": [
            "Python programming is enjoying\n",
            "Python progamming is enjoying\n"
          ]
        }
      ]
    }
  ]
}