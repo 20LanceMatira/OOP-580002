{
  "nbformat": 4,
  "nbformat_minor": 0,
  "metadata": {
    "colab": {
      "provenance": [],
      "authorship_tag": "ABX9TyMVBvJoZ1n3r9RZlgNJUYTx",
      "include_colab_link": true
    },
    "kernelspec": {
      "name": "python3",
      "display_name": "Python 3"
    },
    "language_info": {
      "name": "python"
    }
  },
  "cells": [
    {
      "cell_type": "markdown",
      "metadata": {
        "id": "view-in-github",
        "colab_type": "text"
      },
      "source": [
        "<a href=\"https://colab.research.google.com/github/20LanceMatira/OOP-58002/blob/main/PythonFundamentals.ipynb\" target=\"_parent\"><img src=\"https://colab.research.google.com/assets/colab-badge.svg\" alt=\"Open In Colab\"/></a>"
      ]
    },
    {
      "cell_type": "markdown",
      "source": [
        "Python Indentation"
      ],
      "metadata": {
        "id": "Tm9n4-cywsHv"
      }
    },
    {
      "cell_type": "code",
      "source": [
        "if 5>2:\n",
        " print(\"Five is greater than two/5>2\")"
      ],
      "metadata": {
        "id": "8Cddjq3Hw0w-",
        "colab": {
          "base_uri": "https://localhost:8080/"
        },
        "outputId": "dde059df-f798-4810-bde7-827f1056e96e"
      },
      "execution_count": null,
      "outputs": [
        {
          "output_type": "stream",
          "name": "stdout",
          "text": [
            "Five is greater than two/5>2\n"
          ]
        }
      ]
    },
    {
      "cell_type": "markdown",
      "source": [
        "Python Comment\n"
      ],
      "metadata": {
        "id": "B17maJm7x2On"
      }
    },
    {
      "cell_type": "code",
      "source": [
        "#ThisisaComment\n",
        "print (\"Hello World!\")"
      ],
      "metadata": {
        "id": "cNuAai_Yx6K2",
        "colab": {
          "base_uri": "https://localhost:8080/"
        },
        "outputId": "bc5e7433-0ec3-46d0-87b1-42591a7bf9d8"
      },
      "execution_count": null,
      "outputs": [
        {
          "output_type": "stream",
          "name": "stdout",
          "text": [
            "Hello World!\n"
          ]
        }
      ]
    },
    {
      "cell_type": "markdown",
      "source": [
        "Naming Variable"
      ],
      "metadata": {
        "id": "c1fwHFJPyNqv"
      }
    },
    {
      "cell_type": "code",
      "source": [
        "#Single Variable with single value\n",
        "x = 1\n",
        "y = 2 \n",
        "print (x)\n",
        "print (y)\n",
        "\n",
        "#Multiple Variable with a single value\n",
        "\n",
        "a = b = c = \"Lance Matira\"\n",
        "print (a)\n",
        "print (b)\n",
        "print (c)\n",
        "\n",
        "#Multiple variables with multiple values\n",
        "e, f, g, = 1, 2 ,3\n",
        "print (e)\n",
        "print (f)\n",
        "print (g)"
      ],
      "metadata": {
        "id": "qAe-NFrRyRZ_",
        "outputId": "fe549d0f-ff9a-4b7d-ee29-e5cbfcab22c5",
        "colab": {
          "base_uri": "https://localhost:8080/"
        }
      },
      "execution_count": null,
      "outputs": [
        {
          "output_type": "stream",
          "name": "stdout",
          "text": [
            "1\n",
            "2\n",
            "Lance Matira\n",
            "Lance Matira\n",
            "Lance Matira\n",
            "1\n",
            "2\n",
            "3\n"
          ]
        }
      ]
    },
    {
      "cell_type": "markdown",
      "source": [
        "Single or Double \n",
        "\n"
      ],
      "metadata": {
        "id": "9OTWdHxz0pAv"
      }
    },
    {
      "cell_type": "code",
      "source": [
        "v = \"sally\"\n",
        "u = 'sally'\n",
        "print(u)\n",
        "print(v)\n"
      ],
      "metadata": {
        "id": "8MRUA2aT06Fl",
        "outputId": "f065f291-43de-4014-d12f-e963f762c46e",
        "colab": {
          "base_uri": "https://localhost:8080/"
        }
      },
      "execution_count": null,
      "outputs": [
        {
          "output_type": "stream",
          "name": "stdout",
          "text": [
            "sally\n",
            "sally\n"
          ]
        }
      ]
    },
    {
      "cell_type": "markdown",
      "source": [
        "Casting"
      ],
      "metadata": {
        "id": "R5HKfnb_04-t"
      }
    },
    {
      "cell_type": "code",
      "source": [
        "p = float(5)\n",
        "p "
      ],
      "metadata": {
        "id": "_CxELAed1Iym",
        "outputId": "85646252-cd18-4569-dd62-4a5acb6e5457",
        "colab": {
          "base_uri": "https://localhost:8080/"
        }
      },
      "execution_count": null,
      "outputs": [
        {
          "output_type": "execute_result",
          "data": {
            "text/plain": [
              "5.0"
            ]
          },
          "metadata": {},
          "execution_count": 34
        }
      ]
    },
    {
      "cell_type": "markdown",
      "source": [
        "Type() Function"
      ],
      "metadata": {
        "id": "t5ZCHhWG1jqT"
      }
    },
    {
      "cell_type": "code",
      "source": [
        "f = \"Anna\"\n",
        "g = 4.56\n",
        "print(type(f))\n",
        "print(type(g))\n"
      ],
      "metadata": {
        "colab": {
          "base_uri": "https://localhost:8080/"
        },
        "id": "Jm-3HsqZ13h0",
        "outputId": "4b0c77c8-ee86-49c2-8524-56482bc8d99e"
      },
      "execution_count": null,
      "outputs": [
        {
          "output_type": "stream",
          "name": "stdout",
          "text": [
            "<class 'str'>\n",
            "<class 'float'>\n"
          ]
        }
      ]
    },
    {
      "cell_type": "markdown",
      "source": [
        "Concatenation using + symbol"
      ],
      "metadata": {
        "id": "mU4jH4CN25eL"
      }
    },
    {
      "cell_type": "code",
      "source": [
        "k = \"enjoying\"\n",
        "j = \"Python progamming is\"\n",
        "print(\"Python programming is \"+ k )\n",
        "print(j +\" \"+k)\n",
        "#other example\n",
        "x = \"Python is \"\n",
        "y = \"enjoying\"\n",
        "z = x+y \n",
        "print(z)\n"
      ],
      "metadata": {
        "colab": {
          "base_uri": "https://localhost:8080/"
        },
        "id": "yS5IUmfY3Eh7",
        "outputId": "6b45758e-4fe5-4d74-e93b-519f4c1c73a3"
      },
      "execution_count": 2,
      "outputs": [
        {
          "output_type": "stream",
          "name": "stdout",
          "text": [
            "Python programming is enjoying\n",
            "Python progamming is enjoying\n",
            "Python is enjoying\n"
          ]
        }
      ]
    },
    {
      "cell_type": "markdown",
      "source": [
        "Arithmethic Operations\n"
      ],
      "metadata": {
        "id": "0JeZkRojFNfA"
      }
    },
    {
      "cell_type": "code",
      "source": [
        "x = 5 \n",
        "y = 3 \n",
        "print(x+y)\n"
      ],
      "metadata": {
        "colab": {
          "base_uri": "https://localhost:8080/"
        },
        "id": "Ka3XRY3NFOsO",
        "outputId": "cff7cd66-bb8c-454e-e6c6-d8e999992f28"
      },
      "execution_count": 3,
      "outputs": [
        {
          "output_type": "stream",
          "name": "stdout",
          "text": [
            "8\n"
          ]
        }
      ]
    },
    {
      "cell_type": "markdown",
      "source": [
        "Assignment Operators"
      ],
      "metadata": {
        "id": "Bb-4va-3FReB"
      }
    },
    {
      "cell_type": "code",
      "source": [
        "a,b,c = 0,-1,16 \n",
        "print(a%3)\n",
        "print(b%3)\n",
        "print(c%3)"
      ],
      "metadata": {
        "colab": {
          "base_uri": "https://localhost:8080/"
        },
        "id": "yY1NQSrUFUC4",
        "outputId": "a38d9adb-26a2-44a9-af85-9afa43928373"
      },
      "execution_count": 4,
      "outputs": [
        {
          "output_type": "stream",
          "name": "stdout",
          "text": [
            "0\n",
            "2\n",
            "1\n"
          ]
        }
      ]
    },
    {
      "cell_type": "markdown",
      "source": [
        "Logical Operators"
      ],
      "metadata": {
        "id": "mB1ctiqPFXDE"
      }
    },
    {
      "cell_type": "code",
      "source": [
        "a,b,c= 0,-1,16\n",
        "print(a>b)\n",
        "print(c>b)\n",
        "#other example \n",
        "a>b and c>b "
      ],
      "metadata": {
        "colab": {
          "base_uri": "https://localhost:8080/"
        },
        "id": "q3U4rBCVFZIA",
        "outputId": "16f2950b-8d2f-4d4f-fae9-c4ae12f6d533"
      },
      "execution_count": 5,
      "outputs": [
        {
          "output_type": "stream",
          "name": "stdout",
          "text": [
            "True\n",
            "True\n"
          ]
        },
        {
          "output_type": "execute_result",
          "data": {
            "text/plain": [
              "True"
            ]
          },
          "metadata": {},
          "execution_count": 5
        }
      ]
    },
    {
      "cell_type": "markdown",
      "source": [
        "Identity Operators"
      ],
      "metadata": {
        "id": "8FxZuWyMFcbM"
      }
    },
    {
      "cell_type": "code",
      "source": [
        "a,b,c = 0,-1,5 \n",
        "print(a is c)\n",
        "print(b is a) \n",
        "print(c is b) \n",
        "print(a is not c) \n",
        "print(b is not a) \n",
        "print(c is not b)"
      ],
      "metadata": {
        "colab": {
          "base_uri": "https://localhost:8080/"
        },
        "id": "HbWryuspFe_G",
        "outputId": "9242f961-c84a-462d-a16e-17ca852be703"
      },
      "execution_count": 6,
      "outputs": [
        {
          "output_type": "stream",
          "name": "stdout",
          "text": [
            "False\n",
            "False\n",
            "False\n",
            "True\n",
            "True\n",
            "True\n"
          ]
        }
      ]
    }
  ]
}