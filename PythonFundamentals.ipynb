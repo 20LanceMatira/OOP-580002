{
  "nbformat": 4,
  "nbformat_minor": 0,
  "metadata": {
    "colab": {
      "provenance": [],
      "authorship_tag": "ABX9TyNJrIoqdchJ1OkWOI7v0USU",
      "include_colab_link": true
    },
    "kernelspec": {
      "name": "python3",
      "display_name": "Python 3"
    },
    "language_info": {
      "name": "python"
    }
  },
  "cells": [
    {
      "cell_type": "markdown",
      "metadata": {
        "id": "view-in-github",
        "colab_type": "text"
      },
      "source": [
        "<a href=\"https://colab.research.google.com/github/20LanceMatira/OOP-58002/blob/main/PythonFundamentals.ipynb\" target=\"_parent\"><img src=\"https://colab.research.google.com/assets/colab-badge.svg\" alt=\"Open In Colab\"/></a>"
      ]
    },
    {
      "cell_type": "markdown",
      "source": [
        "Python Indentation"
      ],
      "metadata": {
        "id": "Tm9n4-cywsHv"
      }
    },
    {
      "cell_type": "code",
      "source": [
        "if 5>2:\n",
        " print(\"Five is greater than two/5>2\")"
      ],
      "metadata": {
        "id": "8Cddjq3Hw0w-"
      },
      "execution_count": null,
      "outputs": []
    },
    {
      "cell_type": "markdown",
      "source": [
        "Python Comment\n"
      ],
      "metadata": {
        "id": "B17maJm7x2On"
      }
    },
    {
      "cell_type": "code",
      "source": [
        "#ThisisaComment\n",
        "print (\"Hello World!\")"
      ],
      "metadata": {
        "id": "cNuAai_Yx6K2"
      },
      "execution_count": null,
      "outputs": []
    },
    {
      "cell_type": "markdown",
      "source": [
        "Naming Variable"
      ],
      "metadata": {
        "id": "c1fwHFJPyNqv"
      }
    },
    {
      "cell_type": "code",
      "source": [
        "#Single Variable with single value\n",
        "x = 1\n",
        "y = 2 \n",
        "print (x)\n",
        "print (y)\n",
        "\n",
        "#Multiple Variable with a single value\n",
        "\n",
        "a = b = c = \"The value for variable A,B,C/Lance\"\n",
        "print (a)\n",
        "print (b)\n",
        "print (c)"
      ],
      "metadata": {
        "id": "qAe-NFrRyRZ_"
      },
      "execution_count": null,
      "outputs": []
    }
  ]
}