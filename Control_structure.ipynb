{
  "nbformat": 4,
  "nbformat_minor": 0,
  "metadata": {
    "colab": {
      "provenance": [],
      "authorship_tag": "ABX9TyOGmPUnGc6QB4wjDMJKh+pn",
      "include_colab_link": true
    },
    "kernelspec": {
      "name": "python3",
      "display_name": "Python 3"
    },
    "language_info": {
      "name": "python"
    }
  },
  "cells": [
    {
      "cell_type": "markdown",
      "metadata": {
        "id": "view-in-github",
        "colab_type": "text"
      },
      "source": [
        "<a href=\"https://colab.research.google.com/github/20LanceMatira/OOP-58002/blob/main/Control_structure.ipynb\" target=\"_parent\"><img src=\"https://colab.research.google.com/assets/colab-badge.svg\" alt=\"Open In Colab\"/></a>"
      ]
    },
    {
      "cell_type": "markdown",
      "source": [
        "If statement"
      ],
      "metadata": {
        "id": "LBTMSXHLmvb4"
      }
    },
    {
      "cell_type": "code",
      "execution_count": 1,
      "metadata": {
        "colab": {
          "base_uri": "https://localhost:8080/"
        },
        "id": "9_jXBKZfmqE9",
        "outputId": "62981ffd-f021-4ae0-ca3c-0d307d5dd00b"
      },
      "outputs": [
        {
          "output_type": "stream",
          "name": "stdout",
          "text": [
            "a is less than b\n"
          ]
        }
      ],
      "source": [
        "#IF statement \n",
        "a = 50 \n",
        "b = 100 \n",
        "if a<b: \n",
        "  print(\"a is less than b\")"
      ]
    },
    {
      "cell_type": "markdown",
      "source": [
        "Elif statement"
      ],
      "metadata": {
        "id": "JocgU_LvnSk3"
      }
    },
    {
      "cell_type": "code",
      "source": [
        "#Elif statement\n",
        "a = 12 \n",
        "b = 12\n",
        "if b>a: \n",
        "   print(\"b is greater than a\")\n",
        "elif a==b: \n",
        "  print(\"a is equal to b\")"
      ],
      "metadata": {
        "colab": {
          "base_uri": "https://localhost:8080/"
        },
        "id": "_JKOgS4fnS3n",
        "outputId": "06843999-ee50-49e4-c67a-3ac48d40dc3d"
      },
      "execution_count": 8,
      "outputs": [
        {
          "output_type": "stream",
          "name": "stdout",
          "text": [
            "a is equal to b\n"
          ]
        }
      ]
    },
    {
      "cell_type": "markdown",
      "source": [
        "Else statement "
      ],
      "metadata": {
        "id": "VzhonLlXm-s_"
      }
    },
    {
      "cell_type": "code",
      "source": [
        "#Else statement\n",
        "a = 200 \n",
        "b=30\n",
        "if b>a: \n",
        "   print(\"b is greater than a\")\n",
        "elif a==b:\n",
        "  print(\"a is equal to b\")\n",
        "else:\n",
        "  print(\"a is greater than b\")\n"
      ],
      "metadata": {
        "colab": {
          "base_uri": "https://localhost:8080/"
        },
        "id": "Ev4NXi7jnAcH",
        "outputId": "b85c94c7-8b5e-435d-b8b1-65c1feec7a2a"
      },
      "execution_count": 10,
      "outputs": [
        {
          "output_type": "stream",
          "name": "stdout",
          "text": [
            "a is greater than b\n"
          ]
        }
      ]
    },
    {
      "cell_type": "markdown",
      "source": [
        "Short Hand if Statement"
      ],
      "metadata": {
        "id": "T1oyCYz7olqT"
      }
    },
    {
      "cell_type": "code",
      "source": [
        "#short hand if statement \n",
        "a = 5 \n",
        "b = 5 \n",
        "if a==b: print(\"a is equal to b\")"
      ],
      "metadata": {
        "colab": {
          "base_uri": "https://localhost:8080/"
        },
        "id": "I4lQxGPNodbT",
        "outputId": "308e3def-aaac-4ee7-a5bb-582d7de7505f"
      },
      "execution_count": 13,
      "outputs": [
        {
          "output_type": "stream",
          "name": "stdout",
          "text": [
            "a is equal to b\n"
          ]
        }
      ]
    },
    {
      "cell_type": "markdown",
      "source": [
        "Short hand If Else statement\n"
      ],
      "metadata": {
        "id": "4Tzym2tBo0ti"
      }
    },
    {
      "cell_type": "code",
      "source": [
        "a = 2 \n",
        "b = 330 \n",
        "print(\"A\")if a > b else print(\"B\")"
      ],
      "metadata": {
        "colab": {
          "base_uri": "https://localhost:8080/"
        },
        "id": "GpyTAR_vousz",
        "outputId": "7f055888-a754-4e5e-e770-cb767a3ec57b"
      },
      "execution_count": 14,
      "outputs": [
        {
          "output_type": "stream",
          "name": "stdout",
          "text": [
            "B\n"
          ]
        }
      ]
    },
    {
      "cell_type": "markdown",
      "source": [
        "And-Both conditions are true \n",
        "\n"
      ],
      "metadata": {
        "id": "QDNNbSZ1pDZK"
      }
    },
    {
      "cell_type": "code",
      "source": [
        "a = 200 \n",
        "b = 33 \n",
        "c = 500 \n",
        "if a > b and c > a: \n",
        "  print(\"Both conditions are True \")"
      ],
      "metadata": {
        "colab": {
          "base_uri": "https://localhost:8080/"
        },
        "id": "vofshyI1pKZC",
        "outputId": "79777e6a-d794-418e-d87b-55d7b1e8489d"
      },
      "execution_count": 15,
      "outputs": [
        {
          "output_type": "stream",
          "name": "stdout",
          "text": [
            "Both conditions are True \n"
          ]
        }
      ]
    },
    {
      "cell_type": "markdown",
      "source": [
        "Or-at least one of the conditions is true "
      ],
      "metadata": {
        "id": "roefsXojpVFi"
      }
    },
    {
      "cell_type": "code",
      "source": [
        "a = 200 \n",
        "b = 33 \n",
        "c = 500 \n",
        "if a > b or a > c: \n",
        "  print(\"at least one of the conditions is True\")"
      ],
      "metadata": {
        "colab": {
          "base_uri": "https://localhost:8080/"
        },
        "id": "i8ImjzIbpbYa",
        "outputId": "11ca934f-5da9-44e6-9e03-bced8abea6d2"
      },
      "execution_count": 19,
      "outputs": [
        {
          "output_type": "stream",
          "name": "stdout",
          "text": [
            "at least one of the conditions is True\n"
          ]
        }
      ]
    },
    {
      "cell_type": "markdown",
      "source": [
        "Nested If "
      ],
      "metadata": {
        "id": "E3lRvW3Mp9wR"
      }
    },
    {
      "cell_type": "code",
      "source": [
        "x = 41 \n",
        "\n",
        "if x>10: \n",
        "  print(\"above ten,\")\n",
        "if x>20: \n",
        "  print(\"and also above 20!\")\n",
        "else:\n",
        "  print(\"but not above 20\")"
      ],
      "metadata": {
        "colab": {
          "base_uri": "https://localhost:8080/"
        },
        "id": "UROU3sknqA_J",
        "outputId": "a87d0e0d-6245-43be-b8dc-2082de5cd193"
      },
      "execution_count": 22,
      "outputs": [
        {
          "output_type": "stream",
          "name": "stdout",
          "text": [
            "above 10ten,\n",
            "and also above 20!\n"
          ]
        }
      ]
    },
    {
      "cell_type": "code",
      "source": [
        "x = float(input())\n",
        "if x > 10:\n",
        "  print(\"above 10\")\n",
        "  if x > 20:\n",
        "    print(\"above 20\")\n",
        "    if x > 30: \n",
        "      print(\"above 30\")\n",
        "      if x > 40: \n",
        "        print(\"above 40\")\n",
        "        if x > 50: \n",
        "          print(\"above 50\")\n",
        "        else:\n",
        "          print(\"below 50\")\n",
        "      else:\n",
        "        print(\"below 40\")\n",
        "    else:\n",
        "      print(\"below 30\")\n",
        "  else: \n",
        "    print(\"below 20\")\n",
        "else: \n",
        "  print(\"below 10\")"
      ],
      "metadata": {
        "colab": {
          "base_uri": "https://localhost:8080/"
        },
        "id": "6IppdqQZqhdK",
        "outputId": "fa427062-3a3e-429a-bf94-c32a8c0f0410"
      },
      "execution_count": 35,
      "outputs": [
        {
          "output_type": "stream",
          "name": "stdout",
          "text": [
            "100\n",
            "above 10\n",
            "above 20\n",
            "above 30\n",
            "above 40\n",
            "above 50\n"
          ]
        }
      ]
    },
    {
      "cell_type": "markdown",
      "source": [
        "Example 1: \n",
        "Write a program that determines if the input ageis qualified to vote or not. The qualifying age is18 years old and above."
      ],
      "metadata": {
        "id": "nsF6WkA3v5wC"
      }
    },
    {
      "cell_type": "code",
      "source": [
        "x = float(input())\n",
        "\n",
        "if x >= 18:\n",
        "  print(\"you are qualified to vote\")\n",
        "else: \n",
        "  print(\"you are not qualified to vote\")"
      ],
      "metadata": {
        "colab": {
          "base_uri": "https://localhost:8080/"
        },
        "id": "S4bQtDetv9_x",
        "outputId": "78076277-7021-4029-9ab2-e495a6ef105b"
      },
      "execution_count": 44,
      "outputs": [
        {
          "output_type": "stream",
          "name": "stdout",
          "text": [
            "10\n",
            "you are not qualified to vote\n"
          ]
        }
      ]
    },
    {
      "cell_type": "markdown",
      "source": [
        "Example 2\n",
        "• Write a program that determines if the inputnumber is POSITIVE, NEGATIVE, or ZERO"
      ],
      "metadata": {
        "id": "eKXJgIu4xA2w"
      }
    },
    {
      "cell_type": "code",
      "source": [
        "Num = float(input())\n",
        "\n",
        "if Num > 0:\n",
        "  print(\"number is positive\")\n",
        "elif Num==0: \n",
        "  print(\"number is zero\")\n",
        "else: \n",
        "  print(\"number is negative\")"
      ],
      "metadata": {
        "colab": {
          "base_uri": "https://localhost:8080/"
        },
        "id": "_lK__9eaxE2f",
        "outputId": "b05ed406-f398-42cf-d8d0-9997f85d5ba4"
      },
      "execution_count": 46,
      "outputs": [
        {
          "output_type": "stream",
          "name": "stdout",
          "text": [
            "-10\n",
            "number is negative\n"
          ]
        }
      ]
    },
    {
      "cell_type": "code",
      "source": [
        "Grade = float(input())\n",
        "if Grade >= 70: \n",
        "  print(\"you passed\")\n",
        "elif Grade < 0:\n",
        "  print(\"number is invalid\")\n",
        "elif Grade <=64: \n",
        "  print(\"you failed\")\n",
        "else: \n",
        "  print(\"you will have remedial\")"
      ],
      "metadata": {
        "colab": {
          "base_uri": "https://localhost:8080/"
        },
        "id": "61Y3kjgFxbK4",
        "outputId": "10af5940-3b62-4ccf-f5f1-a436e05835b0"
      },
      "execution_count": 74,
      "outputs": [
        {
          "output_type": "stream",
          "name": "stdout",
          "text": [
            "74\n",
            "you passed\n"
          ]
        }
      ]
    }
  ]
}